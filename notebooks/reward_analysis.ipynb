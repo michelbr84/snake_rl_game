# reward_analysis.ipynb

import pandas as pd
import matplotlib.pyplot as plt

# Carregar os dados de recompensa
dqn_data = pd.read_csv('dqn_training_data.csv', names=['Episode', 'Reward', 'Epsilon'])
a2c_data = pd.read_csv('a2c_training_data.csv', names=['Episode', 'Reward'])
ppo_data = pd.read_csv('ppo_training_data.csv', names=['Episode', 'Reward'])

# Visualizar Recompensa Acumulada para DQN
plt.figure(figsize=(10, 5))
plt.plot(dqn_data['Episode'], dqn_data['Reward'], label='DQN', color='blue')
plt.xlabel('Episodes')
plt.ylabel('Reward')
plt.title('Reward Progression - DQN')
plt.legend()
plt.show()

# Visualizar Recompensa Acumulada para A2C
plt.figure(figsize=(10, 5))
plt.plot(a2c_data['Episode'], a2c_data['Reward'], label='A2C', color='green')
plt.xlabel('Episodes')
plt.ylabel('Reward')
plt.title('Reward Progression - A2C')
plt.legend()
plt.show()

# Visualizar Recompensa Acumulada para PPO
plt.figure(figsize=(10, 5))
plt.plot(ppo_data['Episode'], ppo_data['Reward'], label='PPO', color='red')
plt.xlabel('Episodes')
plt.ylabel('Reward')
plt.title('Reward Progression - PPO')
plt.legend()
plt.show()
