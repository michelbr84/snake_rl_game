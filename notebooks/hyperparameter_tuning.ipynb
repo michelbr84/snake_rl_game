import numpy as np
from evaluate_agents import evaluate_agent
from ai.agents.dqn_agent import DQNAgent
from game.game_env import SnakeEnv

# Configuração do ambiente
env = SnakeEnv()

# Hiperparâmetros para teste
epsilon_decay_values = [0.995, 0.99, 0.98]
learning_rate_values = [0.001, 0.0005, 0.0001]
gamma_values = [0.99, 0.95, 0.9]
results = []

# Teste com diferentes combinações de hiperparâmetros para DQN
for epsilon_decay in epsilon_decay_values:
    for learning_rate in learning_rate_values:
        for gamma in gamma_values:
            agent = DQNAgent(
                state_size=7,
                action_size=4,
                gamma=gamma,
                epsilon_decay=epsilon_decay,
                learning_rate=learning_rate,
            )
            
            print(f"Avaliando DQN com epsilon_decay={epsilon_decay}, learning_rate={learning_rate}, gamma={gamma}")
            avg_reward, avg_steps = evaluate_agent(agent, env, episodes=50)
            
            # Guarda os resultados para análise posterior
            results.append({
                'epsilon_decay': epsilon_decay,
                'learning_rate': learning_rate,
                'gamma': gamma,
                'avg_reward': avg_reward,
                'avg_steps': avg_steps
            })

# Análise dos resultados para encontrar os melhores parâmetros
import pandas as pd
results_df = pd.DataFrame(results)
best_params = results_df.loc[results_df['avg_reward'].idxmax()]
print("Melhores hiperparâmetros encontrados:")
print(best_params)
